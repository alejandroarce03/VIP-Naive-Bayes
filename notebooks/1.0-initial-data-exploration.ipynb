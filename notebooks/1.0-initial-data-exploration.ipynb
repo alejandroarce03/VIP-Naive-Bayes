{
 "cells": [
  {
   "cell_type": "markdown",
   "source": [
    "# Sample notebook\n",
    "\n",
    "Example formula.\n",
    "\n",
    "$$MSE =  \\frac{1}{m} \\sum_{i=1}^{m} (h_{\\theta}(x)^{(i)} - y^{(i)})^2$$\n"
   ],
   "metadata": {
    "collapsed": false,
    "pycharm": {
     "name": "#%% md\n"
    }
   }
  },
  {
   "cell_type": "code",
   "execution_count": 1,
   "metadata": {
    "collapsed": true,
    "pycharm": {
     "name": "#%%\n"
    }
   },
   "outputs": [
    {
     "name": "stdout",
     "output_type": "stream",
     "text": [
      "[4 5 6]\n"
     ]
    }
   ],
   "source": [
    "import pandas as pd\n",
    "import numpy as np\n",
    "from sklearn.tree import DecisionTreeClassifier\n",
    "\n",
    "print(np.array([4, 5, 6]))\n",
    "df = pd.DataFrame()\n",
    "clf = DecisionTreeClassifier()"
   ]
  }
 ],
 "metadata": {
  "kernelspec": {
   "display_name": "Python 3",
   "language": "python",
   "name": "python3"
  },
  "language_info": {
   "codemirror_mode": {
    "name": "ipython",
    "version": 2
   },
   "file_extension": ".py",
   "mimetype": "text/x-python",
   "name": "python",
   "nbconvert_exporter": "python",
   "pygments_lexer": "ipython2",
   "version": "2.7.6"
  }
 },
 "nbformat": 4,
 "nbformat_minor": 0
}